{
 "cells": [
  {
   "cell_type": "markdown",
   "metadata": {},
   "source": [
    "# 1. [Association Rule Generation from Transaction Data]\n"
   ]
  },
  {
   "cell_type": "markdown",
   "metadata": {},
   "source": [
    "(c) Using minimum support = 0.01 and minimum confidence threshold = 0.1, what are the association\n",
    "rules you can extract from your dataset? (0.5 point)"
   ]
  },
  {
   "cell_type": "code",
   "execution_count": 45,
   "metadata": {},
   "outputs": [],
   "source": [
    "import pandas as pd\n",
    "from mlxtend.preprocessing import TransactionEncoder\n",
    "from mlxtend.frequent_patterns import apriori\n",
    "from mlxtend.frequent_patterns import apriori, association_rules"
   ]
  },
  {
   "cell_type": "code",
   "execution_count": 33,
   "metadata": {},
   "outputs": [],
   "source": [
    "df = pd.read_csv('Grocery_Items_8.csv', header=None)"
   ]
  },
  {
   "cell_type": "code",
   "execution_count": 48,
   "metadata": {},
   "outputs": [
    {
     "data": {
      "text/html": [
       "<div>\n",
       "<style scoped>\n",
       "    .dataframe tbody tr th:only-of-type {\n",
       "        vertical-align: middle;\n",
       "    }\n",
       "\n",
       "    .dataframe tbody tr th {\n",
       "        vertical-align: top;\n",
       "    }\n",
       "\n",
       "    .dataframe thead th {\n",
       "        text-align: right;\n",
       "    }\n",
       "</style>\n",
       "<table border=\"1\" class=\"dataframe\">\n",
       "  <thead>\n",
       "    <tr style=\"text-align: right;\">\n",
       "      <th></th>\n",
       "      <th>0</th>\n",
       "      <th>1</th>\n",
       "      <th>2</th>\n",
       "      <th>3</th>\n",
       "      <th>4</th>\n",
       "      <th>5</th>\n",
       "      <th>6</th>\n",
       "      <th>7</th>\n",
       "      <th>8</th>\n",
       "      <th>9</th>\n",
       "      <th>10</th>\n",
       "    </tr>\n",
       "  </thead>\n",
       "  <tbody>\n",
       "    <tr>\n",
       "      <th>0</th>\n",
       "      <td>0</td>\n",
       "      <td>1</td>\n",
       "      <td>2</td>\n",
       "      <td>3</td>\n",
       "      <td>4</td>\n",
       "      <td>5</td>\n",
       "      <td>6</td>\n",
       "      <td>7</td>\n",
       "      <td>8</td>\n",
       "      <td>9.0</td>\n",
       "      <td>10.0</td>\n",
       "    </tr>\n",
       "    <tr>\n",
       "      <th>1</th>\n",
       "      <td>sausage</td>\n",
       "      <td>canned beer</td>\n",
       "      <td>nan</td>\n",
       "      <td>nan</td>\n",
       "      <td>nan</td>\n",
       "      <td>nan</td>\n",
       "      <td>nan</td>\n",
       "      <td>nan</td>\n",
       "      <td>nan</td>\n",
       "      <td>nan</td>\n",
       "      <td>nan</td>\n",
       "    </tr>\n",
       "    <tr>\n",
       "      <th>2</th>\n",
       "      <td>shopping bags</td>\n",
       "      <td>beef</td>\n",
       "      <td>citrus fruit</td>\n",
       "      <td>cat food</td>\n",
       "      <td>nan</td>\n",
       "      <td>nan</td>\n",
       "      <td>nan</td>\n",
       "      <td>nan</td>\n",
       "      <td>nan</td>\n",
       "      <td>nan</td>\n",
       "      <td>nan</td>\n",
       "    </tr>\n",
       "    <tr>\n",
       "      <th>3</th>\n",
       "      <td>onions</td>\n",
       "      <td>root vegetables</td>\n",
       "      <td>nan</td>\n",
       "      <td>nan</td>\n",
       "      <td>nan</td>\n",
       "      <td>nan</td>\n",
       "      <td>nan</td>\n",
       "      <td>nan</td>\n",
       "      <td>nan</td>\n",
       "      <td>nan</td>\n",
       "      <td>nan</td>\n",
       "    </tr>\n",
       "    <tr>\n",
       "      <th>4</th>\n",
       "      <td>bottled beer</td>\n",
       "      <td>domestic eggs</td>\n",
       "      <td>brown bread</td>\n",
       "      <td>chewing gum</td>\n",
       "      <td>nan</td>\n",
       "      <td>nan</td>\n",
       "      <td>nan</td>\n",
       "      <td>nan</td>\n",
       "      <td>nan</td>\n",
       "      <td>nan</td>\n",
       "      <td>nan</td>\n",
       "    </tr>\n",
       "  </tbody>\n",
       "</table>\n",
       "</div>"
      ],
      "text/plain": [
       "              0                1             2            3    4    5    6   \\\n",
       "0              0                1             2            3    4    5    6   \n",
       "1        sausage      canned beer           nan          nan  nan  nan  nan   \n",
       "2  shopping bags             beef  citrus fruit     cat food  nan  nan  nan   \n",
       "3         onions  root vegetables           nan          nan  nan  nan  nan   \n",
       "4   bottled beer    domestic eggs   brown bread  chewing gum  nan  nan  nan   \n",
       "\n",
       "    7    8    9     10  \n",
       "0    7    8  9.0  10.0  \n",
       "1  nan  nan  nan   nan  \n",
       "2  nan  nan  nan   nan  \n",
       "3  nan  nan  nan   nan  \n",
       "4  nan  nan  nan   nan  "
      ]
     },
     "execution_count": 48,
     "metadata": {},
     "output_type": "execute_result"
    }
   ],
   "source": [
    "df.head()"
   ]
  },
  {
   "cell_type": "code",
   "execution_count": 49,
   "metadata": {},
   "outputs": [
    {
     "data": {
      "text/html": [
       "<div>\n",
       "<style scoped>\n",
       "    .dataframe tbody tr th:only-of-type {\n",
       "        vertical-align: middle;\n",
       "    }\n",
       "\n",
       "    .dataframe tbody tr th {\n",
       "        vertical-align: top;\n",
       "    }\n",
       "\n",
       "    .dataframe thead th {\n",
       "        text-align: right;\n",
       "    }\n",
       "</style>\n",
       "<table border=\"1\" class=\"dataframe\">\n",
       "  <thead>\n",
       "    <tr style=\"text-align: right;\">\n",
       "      <th></th>\n",
       "      <th>0</th>\n",
       "      <th>1</th>\n",
       "      <th>2</th>\n",
       "      <th>3</th>\n",
       "      <th>4</th>\n",
       "      <th>5</th>\n",
       "      <th>6</th>\n",
       "      <th>7</th>\n",
       "      <th>8</th>\n",
       "      <th>9</th>\n",
       "      <th>10</th>\n",
       "    </tr>\n",
       "  </thead>\n",
       "  <tbody>\n",
       "    <tr>\n",
       "      <th>7996</th>\n",
       "      <td>whole milk</td>\n",
       "      <td>liquor (appetizer)</td>\n",
       "      <td>nan</td>\n",
       "      <td>nan</td>\n",
       "      <td>nan</td>\n",
       "      <td>nan</td>\n",
       "      <td>nan</td>\n",
       "      <td>nan</td>\n",
       "      <td>nan</td>\n",
       "      <td>nan</td>\n",
       "      <td>nan</td>\n",
       "    </tr>\n",
       "    <tr>\n",
       "      <th>7997</th>\n",
       "      <td>pastry</td>\n",
       "      <td>tropical fruit</td>\n",
       "      <td>citrus fruit</td>\n",
       "      <td>coffee</td>\n",
       "      <td>nan</td>\n",
       "      <td>nan</td>\n",
       "      <td>nan</td>\n",
       "      <td>nan</td>\n",
       "      <td>nan</td>\n",
       "      <td>nan</td>\n",
       "      <td>nan</td>\n",
       "    </tr>\n",
       "    <tr>\n",
       "      <th>7998</th>\n",
       "      <td>curd</td>\n",
       "      <td>root vegetables</td>\n",
       "      <td>dish cleaner</td>\n",
       "      <td>nan</td>\n",
       "      <td>nan</td>\n",
       "      <td>nan</td>\n",
       "      <td>nan</td>\n",
       "      <td>nan</td>\n",
       "      <td>nan</td>\n",
       "      <td>nan</td>\n",
       "      <td>nan</td>\n",
       "    </tr>\n",
       "    <tr>\n",
       "      <th>7999</th>\n",
       "      <td>root vegetables</td>\n",
       "      <td>bottled beer</td>\n",
       "      <td>nan</td>\n",
       "      <td>nan</td>\n",
       "      <td>nan</td>\n",
       "      <td>nan</td>\n",
       "      <td>nan</td>\n",
       "      <td>nan</td>\n",
       "      <td>nan</td>\n",
       "      <td>nan</td>\n",
       "      <td>nan</td>\n",
       "    </tr>\n",
       "    <tr>\n",
       "      <th>8000</th>\n",
       "      <td>pork</td>\n",
       "      <td>bottled water</td>\n",
       "      <td>nan</td>\n",
       "      <td>nan</td>\n",
       "      <td>nan</td>\n",
       "      <td>nan</td>\n",
       "      <td>nan</td>\n",
       "      <td>nan</td>\n",
       "      <td>nan</td>\n",
       "      <td>nan</td>\n",
       "      <td>nan</td>\n",
       "    </tr>\n",
       "  </tbody>\n",
       "</table>\n",
       "</div>"
      ],
      "text/plain": [
       "                   0                   1             2       3    4    5   \\\n",
       "7996       whole milk  liquor (appetizer)           nan     nan  nan  nan   \n",
       "7997           pastry      tropical fruit  citrus fruit  coffee  nan  nan   \n",
       "7998             curd     root vegetables  dish cleaner     nan  nan  nan   \n",
       "7999  root vegetables        bottled beer           nan     nan  nan  nan   \n",
       "8000             pork       bottled water           nan     nan  nan  nan   \n",
       "\n",
       "       6    7    8    9    10  \n",
       "7996  nan  nan  nan  nan  nan  \n",
       "7997  nan  nan  nan  nan  nan  \n",
       "7998  nan  nan  nan  nan  nan  \n",
       "7999  nan  nan  nan  nan  nan  \n",
       "8000  nan  nan  nan  nan  nan  "
      ]
     },
     "execution_count": 49,
     "metadata": {},
     "output_type": "execute_result"
    }
   ],
   "source": [
    "df.tail()"
   ]
  },
  {
   "cell_type": "code",
   "execution_count": 40,
   "metadata": {},
   "outputs": [],
   "source": [
    "# Convert all values to strings\n",
    "df = df.applymap(str)"
   ]
  },
  {
   "cell_type": "code",
   "execution_count": 41,
   "metadata": {},
   "outputs": [],
   "source": [
    "# Convert the data to a list of lists\n",
    "data = df.values.tolist()"
   ]
  },
  {
   "cell_type": "code",
   "execution_count": 42,
   "metadata": {},
   "outputs": [],
   "source": [
    "# Remove None values from the lists\n",
    "data_cleaned = [[item for item in row if not pd.isnull(item)] for row in data]\n"
   ]
  },
  {
   "cell_type": "code",
   "execution_count": 43,
   "metadata": {},
   "outputs": [],
   "source": [
    "# Convert the data to a one-hot encoded DataFrame\n",
    "te = TransactionEncoder()\n",
    "te_ary = te.fit(data_cleaned).transform(data_cleaned)\n",
    "df_encoded = pd.DataFrame(te_ary, columns=te.columns_)"
   ]
  },
  {
   "cell_type": "code",
   "execution_count": 46,
   "metadata": {},
   "outputs": [],
   "source": [
    "# Perform association rule mining\n",
    "frequent_itemsets = apriori(df_encoded, min_support=0.01, use_colnames=True)\n",
    "rules = association_rules(frequent_itemsets, metric=\"confidence\", min_threshold=0.1)"
   ]
  },
  {
   "cell_type": "code",
   "execution_count": 47,
   "metadata": {},
   "outputs": [
    {
     "name": "stdout",
     "output_type": "stream",
     "text": [
      "Association Rules:\n",
      "             antecedents        consequents  antecedent support  \\\n",
      "0             (UHT-milk)              (nan)            0.020622   \n",
      "1                 (beef)              (nan)            0.031496   \n",
      "2              (berries)              (nan)            0.022247   \n",
      "3            (beverages)              (nan)            0.017873   \n",
      "4         (bottled beer)              (nan)            0.046494   \n",
      "..                   ...                ...                 ...   \n",
      "83           (nan, soda)       (whole milk)            0.096738   \n",
      "84                (soda)  (whole milk, nan)            0.096738   \n",
      "85  (whole milk, yogurt)              (nan)            0.011624   \n",
      "86         (nan, yogurt)       (whole milk)            0.086114   \n",
      "87              (yogurt)  (whole milk, nan)            0.086114   \n",
      "\n",
      "    consequent support   support  confidence      lift  leverage  conviction  \\\n",
      "0             0.999875  0.020622    1.000000  1.000125  0.000003         inf   \n",
      "1             0.999875  0.031496    1.000000  1.000125  0.000004         inf   \n",
      "2             0.999875  0.022247    1.000000  1.000125  0.000003         inf   \n",
      "3             0.999875  0.017873    1.000000  1.000125  0.000002         inf   \n",
      "4             0.999875  0.046494    1.000000  1.000125  0.000006         inf   \n",
      "..                 ...       ...         ...       ...       ...         ...   \n",
      "83            0.158230  0.012123    0.125323  0.792029 -0.003183    0.962378   \n",
      "84            0.158230  0.012123    0.125323  0.792029 -0.003183    0.962378   \n",
      "85            0.999875  0.011624    1.000000  1.000125  0.000001         inf   \n",
      "86            0.158230  0.011624    0.134978  0.853050 -0.002002    0.973120   \n",
      "87            0.158230  0.011624    0.134978  0.853050 -0.002002    0.973120   \n",
      "\n",
      "    zhangs_metric  \n",
      "0        0.000128  \n",
      "1        0.000129  \n",
      "2        0.000128  \n",
      "3        0.000127  \n",
      "4        0.000131  \n",
      "..            ...  \n",
      "83      -0.225227  \n",
      "84      -0.225227  \n",
      "85       0.000126  \n",
      "86      -0.158601  \n",
      "87      -0.158601  \n",
      "\n",
      "[88 rows x 10 columns]\n"
     ]
    }
   ],
   "source": [
    "print(\"Association Rules:\")\n",
    "print(rules)"
   ]
  },
  {
   "cell_type": "markdown",
   "metadata": {},
   "source": [
    "(d) Use minimum support values (msv): 0.001, 0.005, 0.01 and minimum confidence threshold (mct):\n",
    "0.05, 0.075, 0.1. For each pair (msv, mct), find the number of association rules extracted from\n",
    "the dataset. Construct a heatmap using Seaborn data visualization library (https://seaborn.pydata.org/generated/seaborn.heatmap.html) to show the count results such that the x-axis is msv and the y-axis is mct. (2.5 points)\n"
   ]
  },
  {
   "cell_type": "code",
   "execution_count": 61,
   "metadata": {},
   "outputs": [],
   "source": [
    "import seaborn as sns\n",
    "import matplotlib.pyplot as plt"
   ]
  },
  {
   "cell_type": "code",
   "execution_count": 50,
   "metadata": {},
   "outputs": [],
   "source": [
    "# Initialize minimum support values (msv) and minimum confidence thresholds (mct)\n",
    "msv_values = [0.001, 0.005, 0.01]\n",
    "mct_values = [0.05, 0.075, 0.1]"
   ]
  },
  {
   "cell_type": "code",
   "execution_count": 66,
   "metadata": {},
   "outputs": [],
   "source": [
    "# Initialize a list to store count results\n",
    "count_results = []"
   ]
  },
  {
   "cell_type": "code",
   "execution_count": 67,
   "metadata": {},
   "outputs": [],
   "source": [
    "# Iterate over msv and mct values\n",
    "for msv in msv_values:\n",
    "    for mct in mct_values:\n",
    "        # Convert the data to a one-hot encoded DataFrame\n",
    "        te = TransactionEncoder()\n",
    "        te_ary = te.fit(data_cleaned).transform(data_cleaned)\n",
    "        df_encoded = pd.DataFrame(te_ary, columns=te.columns_)\n",
    "\n",
    "        # Perform association rule mining\n",
    "        frequent_itemsets = apriori(df_encoded, min_support=msv, use_colnames=True)\n",
    "        rules = association_rules(frequent_itemsets, metric=\"confidence\", min_threshold=mct)\n",
    "\n",
    "        # Count the number of association rules\n",
    "        num_rules = len(rules)\n",
    "\n",
    "        # Append count result to the list\n",
    "        count_results.append((msv, mct, num_rules))\n"
   ]
  },
  {
   "cell_type": "code",
   "execution_count": 54,
   "metadata": {},
   "outputs": [],
   "source": [
    "# Convert count_results to a DataFrame\n",
    "df_count = pd.DataFrame(count_results, columns=['Minimum Support', 'Minimum Confidence Threshold', 'Number of Association Rules'])"
   ]
  },
  {
   "cell_type": "code",
   "execution_count": 56,
   "metadata": {},
   "outputs": [],
   "source": [
    "\n",
    "# Pivot the DataFrame for heatmap\n",
    "df_pivot = df_count.pivot(index='Minimum Confidence Threshold', columns='Minimum Support', values='Number of Association Rules')"
   ]
  },
  {
   "cell_type": "code",
   "execution_count": 68,
   "metadata": {},
   "outputs": [
    {
     "name": "stdout",
     "output_type": "stream",
     "text": [
      "No association rules found for the specified parameters.\n"
     ]
    }
   ],
   "source": [
    "# Check if df_pivot is empty\n",
    "if df_pivot.empty:\n",
    "    print(\"No association rules found for the specified parameters.\")\n",
    "else:\n",
    "    # Create heatmap using Seaborn\n",
    "    plt.figure(figsize=(10, 6))\n",
    "    sns.heatmap(df_pivot, annot=True, cmap=\"YlGnBu\", fmt='g')\n",
    "    plt.title('Number of Association Rules')\n",
    "    plt.xlabel('Minimum Support')\n",
    "    plt.ylabel('Minimum Confidence Threshold')\n",
    "    plt.show()"
   ]
  },
  {
   "cell_type": "markdown",
   "metadata": {},
   "source": [
    "(e) Split the dataset into 50:50 (i.e., 2 equal subsets) and extract association rules for each data subset\n",
    "for minimum support = 0.005 and minimum confident threshold = 0.075. Show the association\n",
    "rules for both sets. Which association rules appeared in both sets (note that there could be none)?\n",
    "(1 point)\n"
   ]
  },
  {
   "cell_type": "code",
   "execution_count": 73,
   "metadata": {},
   "outputs": [],
   "source": [
    "# Split the dataset into two equal subsets\n",
    "num_rows = len(data_cleaned)\n",
    "half_num_rows = num_rows // 2\n",
    "subset1 = data_cleaned[:half_num_rows]\n",
    "subset2 = data_cleaned[half_num_rows:]"
   ]
  },
  {
   "cell_type": "code",
   "execution_count": 74,
   "metadata": {},
   "outputs": [],
   "source": [
    "# Define minimum support and minimum confidence threshold\n",
    "min_support = 0.005\n",
    "min_confidence = 0.075"
   ]
  },
  {
   "cell_type": "code",
   "execution_count": 75,
   "metadata": {},
   "outputs": [],
   "source": [
    "# Convert the data to a one-hot encoded DataFrame for subset 1\n",
    "te = TransactionEncoder()\n",
    "te_ary1 = te.fit(data_cleaned).transform(subset1)\n",
    "df_encoded1 = pd.DataFrame(te_ary1, columns=te.columns_)"
   ]
  },
  {
   "cell_type": "code",
   "execution_count": 76,
   "metadata": {},
   "outputs": [],
   "source": [
    "# Convert the data to a one-hot encoded DataFrame for subset 2\n",
    "te_ary2 = te.transform(subset2)\n",
    "df_encoded2 = pd.DataFrame(te_ary2, columns=te.columns_)"
   ]
  },
  {
   "cell_type": "code",
   "execution_count": 77,
   "metadata": {},
   "outputs": [],
   "source": [
    "# Perform association rule mining for subset 1\n",
    "frequent_itemsets1 = apriori(df_encoded1, min_support=min_support, use_colnames=True)\n",
    "rules1 = association_rules(frequent_itemsets1, metric=\"confidence\", min_threshold=min_confidence)"
   ]
  },
  {
   "cell_type": "code",
   "execution_count": 78,
   "metadata": {},
   "outputs": [],
   "source": [
    "# Perform association rule mining for subset 2\n",
    "frequent_itemsets2 = apriori(df_encoded2, min_support=min_support, use_colnames=True)\n",
    "rules2 = association_rules(frequent_itemsets2, metric=\"confidence\", min_threshold=min_confidence)"
   ]
  },
  {
   "cell_type": "code",
   "execution_count": 79,
   "metadata": {},
   "outputs": [
    {
     "name": "stdout",
     "output_type": "stream",
     "text": [
      "Association Rules for Subset 1:\n",
      "                   antecedents        consequents  antecedent support  \\\n",
      "0                   (UHT-milk)              (nan)             0.02375   \n",
      "1              (baking powder)              (nan)             0.00975   \n",
      "2                       (beef)              (nan)             0.03175   \n",
      "3                    (berries)              (nan)             0.02525   \n",
      "4                  (beverages)              (nan)             0.01675   \n",
      "..                         ...                ...                 ...   \n",
      "259  (nan, whipped/sour cream)       (whole milk)             0.04525   \n",
      "260       (whipped/sour cream)  (whole milk, nan)             0.04525   \n",
      "261       (whole milk, yogurt)              (nan)             0.01175   \n",
      "262              (nan, yogurt)       (whole milk)             0.08625   \n",
      "263                   (yogurt)  (whole milk, nan)             0.08625   \n",
      "\n",
      "     consequent support  support  confidence      lift  leverage  conviction  \\\n",
      "0               0.99975  0.02375    1.000000  1.000250  0.000006         inf   \n",
      "1               0.99975  0.00975    1.000000  1.000250  0.000002         inf   \n",
      "2               0.99975  0.03175    1.000000  1.000250  0.000008         inf   \n",
      "3               0.99975  0.02525    1.000000  1.000250  0.000006         inf   \n",
      "4               0.99975  0.01675    1.000000  1.000250  0.000004         inf   \n",
      "..                  ...      ...         ...       ...       ...         ...   \n",
      "259             0.16000  0.00575    0.127072  0.794199 -0.001490    0.962278   \n",
      "260             0.16000  0.00575    0.127072  0.794199 -0.001490    0.962278   \n",
      "261             0.99975  0.01175    1.000000  1.000250  0.000003         inf   \n",
      "262             0.16000  0.01175    0.136232  0.851449 -0.002050    0.972483   \n",
      "263             0.16000  0.01175    0.136232  0.851449 -0.002050    0.972483   \n",
      "\n",
      "     zhangs_metric  \n",
      "0         0.000256  \n",
      "1         0.000252  \n",
      "2         0.000258  \n",
      "3         0.000256  \n",
      "4         0.000254  \n",
      "..             ...  \n",
      "259      -0.213473  \n",
      "260      -0.213473  \n",
      "261       0.000253  \n",
      "262      -0.160325  \n",
      "263      -0.160325  \n",
      "\n",
      "[264 rows x 10 columns]\n"
     ]
    }
   ],
   "source": [
    "# Display the association rules for both sets\n",
    "print(\"Association Rules for Subset 1:\")\n",
    "print(rules1)"
   ]
  },
  {
   "cell_type": "code",
   "execution_count": 80,
   "metadata": {},
   "outputs": [
    {
     "name": "stdout",
     "output_type": "stream",
     "text": [
      "Association Rules for Subset 2:\n",
      "               antecedents        consequents  antecedent support  \\\n",
      "0               (UHT-milk)              (nan)            0.017496   \n",
      "1          (baking powder)              (nan)            0.007498   \n",
      "2                   (beef)              (nan)            0.031242   \n",
      "3                (berries)              (nan)            0.019245   \n",
      "4              (beverages)              (nan)            0.018995   \n",
      "..                     ...                ...                 ...   \n",
      "249  (nan, tropical fruit)       (whole milk)            0.063484   \n",
      "250       (tropical fruit)  (whole milk, nan)            0.063484   \n",
      "251   (whole milk, yogurt)              (nan)            0.011497   \n",
      "252          (nan, yogurt)       (whole milk)            0.085979   \n",
      "253               (yogurt)  (whole milk, nan)            0.085979   \n",
      "\n",
      "     consequent support   support  confidence      lift  leverage  conviction  \\\n",
      "0              1.000000  0.017496    1.000000  1.000000  0.000000         inf   \n",
      "1              1.000000  0.007498    1.000000  1.000000  0.000000         inf   \n",
      "2              1.000000  0.031242    1.000000  1.000000  0.000000         inf   \n",
      "3              1.000000  0.019245    1.000000  1.000000  0.000000         inf   \n",
      "4              1.000000  0.018995    1.000000  1.000000  0.000000         inf   \n",
      "..                  ...       ...         ...       ...       ...         ...   \n",
      "249            0.156461  0.006748    0.106299  0.679398 -0.003184    0.943872   \n",
      "250            0.156461  0.006748    0.106299  0.679398 -0.003184    0.943872   \n",
      "251            1.000000  0.011497    1.000000  1.000000  0.000000         inf   \n",
      "252            0.156461  0.011497    0.133721  0.854660 -0.001955    0.973750   \n",
      "253            0.156461  0.011497    0.133721  0.854660 -0.001955    0.973750   \n",
      "\n",
      "     zhangs_metric  \n",
      "0         0.000000  \n",
      "1         0.000000  \n",
      "2         0.000000  \n",
      "3         0.000000  \n",
      "4         0.000000  \n",
      "..             ...  \n",
      "249      -0.335053  \n",
      "250      -0.335053  \n",
      "251       0.000000  \n",
      "252      -0.156866  \n",
      "253      -0.156866  \n",
      "\n",
      "[254 rows x 10 columns]\n"
     ]
    }
   ],
   "source": [
    "print(\"Association Rules for Subset 2:\")\n",
    "print(rules2)"
   ]
  },
  {
   "cell_type": "code",
   "execution_count": 81,
   "metadata": {},
   "outputs": [
    {
     "name": "stdout",
     "output_type": "stream",
     "text": [
      "\n",
      "Association Rules Appearing in Both Sets:\n",
      "Empty DataFrame\n",
      "Columns: [antecedents, consequents, antecedent support, consequent support, support, confidence, lift, leverage, conviction, zhangs_metric]\n",
      "Index: []\n"
     ]
    }
   ],
   "source": [
    "# Identify association rules that appear in both sets\n",
    "common_rules = rules1.merge(rules2)\n",
    "print(\"Association Rules Appearing in Both Sets:\")\n",
    "print(common_rules)"
   ]
  },
  {
   "cell_type": "markdown",
   "metadata": {},
   "source": [
    "# 2. [Image Classification using CNN]"
   ]
  },
  {
   "cell_type": "code",
   "execution_count": 184,
   "metadata": {},
   "outputs": [],
   "source": [
    "import os\n",
    "import numpy as np\n",
    "\n",
    "from keras.models import Sequential\n",
    "from keras.layers import Conv2D, MaxPooling2D, Flatten, Dense\n",
    "from keras.utils import to_categorical, load_img, img_to_array\n",
    "from sklearn.model_selection import train_test_split"
   ]
  },
  {
   "cell_type": "code",
   "execution_count": 185,
   "metadata": {},
   "outputs": [],
   "source": [
    "# Step 1: Load the image data\n",
    "data_dir = 'crop_images'  \n",
    "class_labels = sorted(os.listdir(data_dir))\n",
    "num_classes = len(class_labels)"
   ]
  },
  {
   "cell_type": "code",
   "execution_count": 186,
   "metadata": {},
   "outputs": [],
   "source": [
    "images = []\n",
    "labels = []\n",
    "\n",
    "for class_label in class_labels:\n",
    "    class_path = os.path.join(data_dir, class_label)\n",
    "    \n",
    "    for img_file in os.listdir(class_path):\n",
    "        img_path = os.path.join(class_path, img_file)\n",
    "        \n",
    "        # Load and preprocess the image\n",
    "        img = load_img(img_path, target_size=(28, 28))\n",
    "        img_array = img_to_array(img) / 255.0  # Normalize pixel values\n",
    "        \n",
    "        images.append(img_array)\n",
    "        labels.append(class_labels.index(class_label))"
   ]
  },
  {
   "cell_type": "code",
   "execution_count": 187,
   "metadata": {},
   "outputs": [],
   "source": [
    "images = np.array(images)\n",
    "labels = np.array(labels)"
   ]
  },
  {
   "cell_type": "code",
   "execution_count": 188,
   "metadata": {},
   "outputs": [],
   "source": [
    "# Step 2: Split the data into training and validation sets\n",
    "X_train, X_val, y_train, y_val = train_test_split(images, labels, test_size=0.2, random_state=42)"
   ]
  },
  {
   "cell_type": "code",
   "execution_count": 189,
   "metadata": {},
   "outputs": [],
   "source": [
    "# Step 3: Convert the labels to one-hot encoding\n",
    "y_train = to_categorical(y_train, num_classes=num_classes)\n",
    "y_val = to_categorical(y_val, num_classes=num_classes)"
   ]
  },
  {
   "cell_type": "code",
   "execution_count": 190,
   "metadata": {},
   "outputs": [],
   "source": [
    "# Step 4: Choose a suitable batch size\n",
    "batch_size = 64"
   ]
  },
  {
   "cell_type": "code",
   "execution_count": 191,
   "metadata": {},
   "outputs": [],
   "source": [
    "# Step 5: Construct the CNN model\n",
    "model = Sequential([\n",
    "    Conv2D(8, (3, 3), activation='relu', input_shape=(28, 28, 3)),  # Change input_shape based on your data\n",
    "    MaxPooling2D((2, 2)),\n",
    "    Flatten(),\n",
    "    Dense(16, activation='relu'),\n",
    "    Dense(num_classes, activation='softmax')\n",
    "])\n",
    "\n",
    "model.compile(optimizer='adam', loss='categorical_crossentropy', metrics=['accuracy'])\n"
   ]
  },
  {
   "cell_type": "code",
   "execution_count": 192,
   "metadata": {},
   "outputs": [
    {
     "name": "stdout",
     "output_type": "stream",
     "text": [
      "Epoch 1/20\n",
      "WARNING:tensorflow:AutoGraph could not transform <function Model.make_train_function.<locals>.train_function at 0x00000255ECDA2700> and will run it as-is.\n",
      "Cause: Unable to locate the source code of <function Model.make_train_function.<locals>.train_function at 0x00000255ECDA2700>. Note that functions defined in certain environments, like the interactive Python shell, do not expose their source code. If that is the case, you should define them in a .py source file. If you are certain the code is graph-compatible, wrap the call using @tf.autograph.experimental.do_not_convert. Original error: could not get source code\n",
      "To silence this warning, decorate the function with @tf.autograph.experimental.do_not_convert\n",
      "WARNING: AutoGraph could not transform <function Model.make_train_function.<locals>.train_function at 0x00000255ECDA2700> and will run it as-is.\n",
      "Cause: Unable to locate the source code of <function Model.make_train_function.<locals>.train_function at 0x00000255ECDA2700>. Note that functions defined in certain environments, like the interactive Python shell, do not expose their source code. If that is the case, you should define them in a .py source file. If you are certain the code is graph-compatible, wrap the call using @tf.autograph.experimental.do_not_convert. Original error: could not get source code\n",
      "To silence this warning, decorate the function with @tf.autograph.experimental.do_not_convert\n",
      " 9/10 [==========================>...] - ETA: 0s - loss: 1.4065 - accuracy: 0.2760WARNING:tensorflow:AutoGraph could not transform <function Model.make_test_function.<locals>.test_function at 0x00000255ECDE0F40> and will run it as-is.\n",
      "Cause: Unable to locate the source code of <function Model.make_test_function.<locals>.test_function at 0x00000255ECDE0F40>. Note that functions defined in certain environments, like the interactive Python shell, do not expose their source code. If that is the case, you should define them in a .py source file. If you are certain the code is graph-compatible, wrap the call using @tf.autograph.experimental.do_not_convert. Original error: could not get source code\n",
      "To silence this warning, decorate the function with @tf.autograph.experimental.do_not_convert\n",
      "WARNING: AutoGraph could not transform <function Model.make_test_function.<locals>.test_function at 0x00000255ECDE0F40> and will run it as-is.\n",
      "Cause: Unable to locate the source code of <function Model.make_test_function.<locals>.test_function at 0x00000255ECDE0F40>. Note that functions defined in certain environments, like the interactive Python shell, do not expose their source code. If that is the case, you should define them in a .py source file. If you are certain the code is graph-compatible, wrap the call using @tf.autograph.experimental.do_not_convert. Original error: could not get source code\n",
      "To silence this warning, decorate the function with @tf.autograph.experimental.do_not_convert\n",
      "10/10 [==============================] - 3s 64ms/step - loss: 1.4047 - accuracy: 0.2822 - val_loss: 1.3771 - val_accuracy: 0.3766\n",
      "Epoch 2/20\n",
      "10/10 [==============================] - 0s 32ms/step - loss: 1.3422 - accuracy: 0.4144 - val_loss: 1.3470 - val_accuracy: 0.3571\n",
      "Epoch 3/20\n",
      "10/10 [==============================] - 0s 33ms/step - loss: 1.3012 - accuracy: 0.3719 - val_loss: 1.3062 - val_accuracy: 0.3636\n",
      "Epoch 4/20\n",
      "10/10 [==============================] - 0s 29ms/step - loss: 1.2427 - accuracy: 0.4763 - val_loss: 1.2501 - val_accuracy: 0.3831\n",
      "Epoch 5/20\n",
      "10/10 [==============================] - 0s 27ms/step - loss: 1.1710 - accuracy: 0.5237 - val_loss: 1.2002 - val_accuracy: 0.4091\n",
      "Epoch 6/20\n",
      "10/10 [==============================] - 0s 22ms/step - loss: 1.1217 - accuracy: 0.5334 - val_loss: 1.1785 - val_accuracy: 0.4351\n",
      "Epoch 7/20\n",
      "10/10 [==============================] - 0s 34ms/step - loss: 1.0616 - accuracy: 0.5628 - val_loss: 1.1257 - val_accuracy: 0.4610\n",
      "Epoch 8/20\n",
      "10/10 [==============================] - 0s 30ms/step - loss: 1.0244 - accuracy: 0.5808 - val_loss: 1.1079 - val_accuracy: 0.4805\n",
      "Epoch 9/20\n",
      "10/10 [==============================] - 0s 29ms/step - loss: 0.9971 - accuracy: 0.5889 - val_loss: 1.0973 - val_accuracy: 0.4870\n",
      "Epoch 10/20\n",
      "10/10 [==============================] - 0s 29ms/step - loss: 0.9585 - accuracy: 0.6199 - val_loss: 1.0826 - val_accuracy: 0.4805\n",
      "Epoch 11/20\n",
      "10/10 [==============================] - 0s 37ms/step - loss: 0.9514 - accuracy: 0.6003 - val_loss: 1.0677 - val_accuracy: 0.5065\n",
      "Epoch 12/20\n",
      "10/10 [==============================] - 0s 37ms/step - loss: 0.9340 - accuracy: 0.6183 - val_loss: 1.1328 - val_accuracy: 0.4805\n",
      "Epoch 13/20\n",
      "10/10 [==============================] - 1s 95ms/step - loss: 0.9333 - accuracy: 0.6069 - val_loss: 1.1037 - val_accuracy: 0.5130\n",
      "Epoch 14/20\n",
      "10/10 [==============================] - 0s 52ms/step - loss: 0.9250 - accuracy: 0.6346 - val_loss: 1.0778 - val_accuracy: 0.5065\n",
      "Epoch 15/20\n",
      "10/10 [==============================] - 0s 29ms/step - loss: 0.8811 - accuracy: 0.6574 - val_loss: 1.0536 - val_accuracy: 0.5065\n",
      "Epoch 16/20\n",
      "10/10 [==============================] - 0s 25ms/step - loss: 0.8698 - accuracy: 0.6460 - val_loss: 1.0541 - val_accuracy: 0.5390\n",
      "Epoch 17/20\n",
      "10/10 [==============================] - 0s 25ms/step - loss: 0.8567 - accuracy: 0.6542 - val_loss: 1.0421 - val_accuracy: 0.5195\n",
      "Epoch 18/20\n",
      "10/10 [==============================] - 0s 26ms/step - loss: 0.8379 - accuracy: 0.6852 - val_loss: 1.0446 - val_accuracy: 0.5065\n",
      "Epoch 19/20\n",
      "10/10 [==============================] - 0s 23ms/step - loss: 0.8327 - accuracy: 0.6721 - val_loss: 1.0623 - val_accuracy: 0.5130\n",
      "Epoch 20/20\n",
      "10/10 [==============================] - 0s 26ms/step - loss: 0.8370 - accuracy: 0.6476 - val_loss: 1.0350 - val_accuracy: 0.5519\n"
     ]
    }
   ],
   "source": [
    "# Step 6: Train the model\n",
    "history = model.fit(X_train, y_train, batch_size=batch_size, epochs=20, validation_data=(X_val, y_val))\n"
   ]
  },
  {
   "cell_type": "markdown",
   "metadata": {},
   "source": [
    "Plot a graph to show the learning curves (i.e., x-axis: number of epochs; y-axis: training and\n",
    "validation accuracy - 2 curves) (1 points)"
   ]
  },
  {
   "cell_type": "code",
   "execution_count": 193,
   "metadata": {},
   "outputs": [
    {
     "data": {
      "image/png": "[encoded data removed]",
      "text/plain": [
       "<Figure size 800x600 with 1 Axes>"
      ]
     },
     "metadata": {},
     "output_type": "display_data"
    }
   ],
   "source": [
    "# Step 7: Plot the learning curves\n",
    "import matplotlib.pyplot as plt\n",
    "\n",
    "plt.figure(figsize=(8, 6))\n",
    "plt.plot(history.history['accuracy'], label='Training Accuracy')\n",
    "plt.plot(history.history['val_accuracy'], label='Validation Accuracy')\n",
    "plt.xlabel('Epochs')\n",
    "plt.ylabel('Accuracy')\n",
    "plt.legend()\n",
    "plt.show()"
   ]
  },
  {
   "cell_type": "markdown",
   "metadata": {},
   "source": [
    "• Perform ONE of the following experiment below ((a), (b) or (c)) based on the last digit of your\n",
    "Rowan Banner ID (1 point):\n",
    "(a) Train the CNN using 2 other filter sizes: 5 × 5 and 7 × 7 for the convolution layer (i) with all\n",
    "other parameters unchanged\n",
    "(b) Train the CNN using 2 other number of filters: 4 and 16 for the convolution layer (i) with all\n",
    "other parameters unchanged\n",
    "(c) Train the CNN using 2 other number of nodes in the hidden layer (iv): 8 and 32 with all other\n",
    "parameters unchanged\n",
    "If the last digit is {0, 1, 2, 3}, do (a). If the last digit is {4, 5, 6}, do (b). If the last digit is {7, 8, 9},\n",
    "do (c). State your Rowan Banner ID in your submission so that we know which experiment you\n",
    "are doing."
   ]
  },
  {
   "cell_type": "markdown",
   "metadata": {},
   "source": [
    "My Rowan Banner ID ends with 2 (916472682) so (a)"
   ]
  },
  {
   "cell_type": "markdown",
   "metadata": {},
   "source": [
    "Step 8: Train the CNN with filter sizes 5x5 and 7x7"
   ]
  },
  {
   "cell_type": "code",
   "execution_count": 194,
   "metadata": {},
   "outputs": [
    {
     "name": "stdout",
     "output_type": "stream",
     "text": [
      "Epoch 1/20\n",
      "WARNING:tensorflow:AutoGraph could not transform <function Model.make_train_function.<locals>.train_function at 0x00000255EB0113A0> and will run it as-is.\n",
      "Cause: Unable to locate the source code of <function Model.make_train_function.<locals>.train_function at 0x00000255EB0113A0>. Note that functions defined in certain environments, like the interactive Python shell, do not expose their source code. If that is the case, you should define them in a .py source file. If you are certain the code is graph-compatible, wrap the call using @tf.autograph.experimental.do_not_convert. Original error: could not get source code\n",
      "To silence this warning, decorate the function with @tf.autograph.experimental.do_not_convert\n",
      "WARNING: AutoGraph could not transform <function Model.make_train_function.<locals>.train_function at 0x00000255EB0113A0> and will run it as-is.\n",
      "Cause: Unable to locate the source code of <function Model.make_train_function.<locals>.train_function at 0x00000255EB0113A0>. Note that functions defined in certain environments, like the interactive Python shell, do not expose their source code. If that is the case, you should define them in a .py source file. If you are certain the code is graph-compatible, wrap the call using @tf.autograph.experimental.do_not_convert. Original error: could not get source code\n",
      "To silence this warning, decorate the function with @tf.autograph.experimental.do_not_convert\n",
      " 9/10 [==========================>...] - ETA: 0s - loss: 1.3243 - accuracy: 0.3594WARNING:tensorflow:AutoGraph could not transform <function Model.make_test_function.<locals>.test_function at 0x00000255EB012B60> and will run it as-is.\n",
      "Cause: Unable to locate the source code of <function Model.make_test_function.<locals>.test_function at 0x00000255EB012B60>. Note that functions defined in certain environments, like the interactive Python shell, do not expose their source code. If that is the case, you should define them in a .py source file. If you are certain the code is graph-compatible, wrap the call using @tf.autograph.experimental.do_not_convert. Original error: could not get source code\n",
      "To silence this warning, decorate the function with @tf.autograph.experimental.do_not_convert\n",
      "WARNING: AutoGraph could not transform <function Model.make_test_function.<locals>.test_function at 0x00000255EB012B60> and will run it as-is.\n",
      "Cause: Unable to locate the source code of <function Model.make_test_function.<locals>.test_function at 0x00000255EB012B60>. Note that functions defined in certain environments, like the interactive Python shell, do not expose their source code. If that is the case, you should define them in a .py source file. If you are certain the code is graph-compatible, wrap the call using @tf.autograph.experimental.do_not_convert. Original error: could not get source code\n",
      "To silence this warning, decorate the function with @tf.autograph.experimental.do_not_convert\n",
      "10/10 [==============================] - 2s 64ms/step - loss: 1.3233 - accuracy: 0.3622 - val_loss: 1.2754 - val_accuracy: 0.3961\n",
      "Epoch 2/20\n",
      "10/10 [==============================] - 0s 30ms/step - loss: 1.2004 - accuracy: 0.4731 - val_loss: 1.2188 - val_accuracy: 0.4156\n",
      "Epoch 3/20\n",
      "10/10 [==============================] - 0s 31ms/step - loss: 1.1120 - accuracy: 0.5090 - val_loss: 1.1548 - val_accuracy: 0.4416\n",
      "Epoch 4/20\n",
      "10/10 [==============================] - 0s 28ms/step - loss: 1.0188 - accuracy: 0.5938 - val_loss: 1.0954 - val_accuracy: 0.5390\n",
      "Epoch 5/20\n",
      "10/10 [==============================] - 0s 35ms/step - loss: 0.9779 - accuracy: 0.5971 - val_loss: 1.1262 - val_accuracy: 0.5130\n",
      "Epoch 6/20\n",
      "10/10 [==============================] - 0s 30ms/step - loss: 0.9378 - accuracy: 0.6117 - val_loss: 1.0994 - val_accuracy: 0.5260\n",
      "Epoch 7/20\n",
      "10/10 [==============================] - 0s 46ms/step - loss: 0.8987 - accuracy: 0.6427 - val_loss: 1.1616 - val_accuracy: 0.4740\n",
      "Epoch 8/20\n",
      "10/10 [==============================] - 0s 36ms/step - loss: 0.9230 - accuracy: 0.6150 - val_loss: 1.0907 - val_accuracy: 0.5390\n",
      "Epoch 9/20\n",
      "10/10 [==============================] - 0s 36ms/step - loss: 0.8740 - accuracy: 0.6558 - val_loss: 1.1370 - val_accuracy: 0.4870\n",
      "Epoch 10/20\n",
      "10/10 [==============================] - 0s 42ms/step - loss: 0.8939 - accuracy: 0.6607 - val_loss: 1.1295 - val_accuracy: 0.5195\n",
      "Epoch 11/20\n",
      "10/10 [==============================] - 0s 31ms/step - loss: 0.8912 - accuracy: 0.6346 - val_loss: 1.0949 - val_accuracy: 0.5065\n",
      "Epoch 12/20\n",
      "10/10 [==============================] - 0s 36ms/step - loss: 0.8485 - accuracy: 0.6803 - val_loss: 1.0858 - val_accuracy: 0.5455\n",
      "Epoch 13/20\n",
      "10/10 [==============================] - 0s 36ms/step - loss: 0.8126 - accuracy: 0.6917 - val_loss: 1.1821 - val_accuracy: 0.4740\n",
      "Epoch 14/20\n",
      "10/10 [==============================] - 0s 34ms/step - loss: 0.8256 - accuracy: 0.6900 - val_loss: 1.0846 - val_accuracy: 0.5649\n",
      "Epoch 15/20\n",
      "10/10 [==============================] - 0s 52ms/step - loss: 0.7825 - accuracy: 0.6982 - val_loss: 1.0661 - val_accuracy: 0.5584\n",
      "Epoch 16/20\n",
      "10/10 [==============================] - 1s 59ms/step - loss: 0.7518 - accuracy: 0.7194 - val_loss: 1.0981 - val_accuracy: 0.5195\n",
      "Epoch 17/20\n",
      "10/10 [==============================] - 1s 73ms/step - loss: 0.7427 - accuracy: 0.7357 - val_loss: 1.0677 - val_accuracy: 0.5584\n",
      "Epoch 18/20\n",
      "10/10 [==============================] - 1s 89ms/step - loss: 0.7394 - accuracy: 0.7259 - val_loss: 1.1199 - val_accuracy: 0.5455\n",
      "Epoch 19/20\n",
      "10/10 [==============================] - 0s 45ms/step - loss: 0.7201 - accuracy: 0.7325 - val_loss: 1.0851 - val_accuracy: 0.5130\n",
      "Epoch 20/20\n",
      "10/10 [==============================] - 0s 38ms/step - loss: 0.7070 - accuracy: 0.7341 - val_loss: 1.1094 - val_accuracy: 0.5000\n"
     ]
    }
   ],
   "source": [
    "model_5x5 = Sequential([\n",
    "    Conv2D(8, (5, 5), activation='relu', input_shape=(28, 28, 3)),\n",
    "    MaxPooling2D((2, 2)),\n",
    "    Flatten(),\n",
    "    Dense(16, activation='relu'),\n",
    "    Dense(num_classes, activation='softmax')\n",
    "])\n",
    "\n",
    "model_5x5.compile(optimizer='adam', loss='categorical_crossentropy', metrics=['accuracy'])\n",
    "history_5x5 = model_5x5.fit(X_train, y_train, batch_size=batch_size, epochs=20, validation_data=(X_val, y_val))"
   ]
  },
  {
   "cell_type": "code",
   "execution_count": 195,
   "metadata": {},
   "outputs": [
    {
     "name": "stdout",
     "output_type": "stream",
     "text": [
      "Epoch 1/20\n",
      "WARNING:tensorflow:AutoGraph could not transform <function Model.make_train_function.<locals>.train_function at 0x00000255EA785760> and will run it as-is.\n",
      "Cause: Unable to locate the source code of <function Model.make_train_function.<locals>.train_function at 0x00000255EA785760>. Note that functions defined in certain environments, like the interactive Python shell, do not expose their source code. If that is the case, you should define them in a .py source file. If you are certain the code is graph-compatible, wrap the call using @tf.autograph.experimental.do_not_convert. Original error: could not get source code\n",
      "To silence this warning, decorate the function with @tf.autograph.experimental.do_not_convert\n",
      "WARNING: AutoGraph could not transform <function Model.make_train_function.<locals>.train_function at 0x00000255EA785760> and will run it as-is.\n",
      "Cause: Unable to locate the source code of <function Model.make_train_function.<locals>.train_function at 0x00000255EA785760>. Note that functions defined in certain environments, like the interactive Python shell, do not expose their source code. If that is the case, you should define them in a .py source file. If you are certain the code is graph-compatible, wrap the call using @tf.autograph.experimental.do_not_convert. Original error: could not get source code\n",
      "To silence this warning, decorate the function with @tf.autograph.experimental.do_not_convert\n",
      " 9/10 [==========================>...] - ETA: 0s - loss: 1.3615 - accuracy: 0.2951WARNING:tensorflow:AutoGraph could not transform <function Model.make_test_function.<locals>.test_function at 0x00000255EA784EA0> and will run it as-is.\n",
      "Cause: Unable to locate the source code of <function Model.make_test_function.<locals>.test_function at 0x00000255EA784EA0>. Note that functions defined in certain environments, like the interactive Python shell, do not expose their source code. If that is the case, you should define them in a .py source file. If you are certain the code is graph-compatible, wrap the call using @tf.autograph.experimental.do_not_convert. Original error: could not get source code\n",
      "To silence this warning, decorate the function with @tf.autograph.experimental.do_not_convert\n",
      "WARNING: AutoGraph could not transform <function Model.make_test_function.<locals>.test_function at 0x00000255EA784EA0> and will run it as-is.\n",
      "Cause: Unable to locate the source code of <function Model.make_test_function.<locals>.test_function at 0x00000255EA784EA0>. Note that functions defined in certain environments, like the interactive Python shell, do not expose their source code. If that is the case, you should define them in a .py source file. If you are certain the code is graph-compatible, wrap the call using @tf.autograph.experimental.do_not_convert. Original error: could not get source code\n",
      "To silence this warning, decorate the function with @tf.autograph.experimental.do_not_convert\n",
      "10/10 [==============================] - 4s 79ms/step - loss: 1.3596 - accuracy: 0.2953 - val_loss: 1.3459 - val_accuracy: 0.2987\n",
      "Epoch 2/20\n",
      "10/10 [==============================] - 0s 46ms/step - loss: 1.2917 - accuracy: 0.3883 - val_loss: 1.2869 - val_accuracy: 0.4156\n",
      "Epoch 3/20\n",
      "10/10 [==============================] - 0s 48ms/step - loss: 1.1955 - accuracy: 0.4910 - val_loss: 1.2256 - val_accuracy: 0.4286\n",
      "Epoch 4/20\n",
      "10/10 [==============================] - 0s 40ms/step - loss: 1.1416 - accuracy: 0.4976 - val_loss: 1.3272 - val_accuracy: 0.4351\n",
      "Epoch 5/20\n",
      "10/10 [==============================] - 0s 39ms/step - loss: 1.1645 - accuracy: 0.4812 - val_loss: 1.2985 - val_accuracy: 0.4351\n",
      "Epoch 6/20\n",
      "10/10 [==============================] - 0s 38ms/step - loss: 1.1181 - accuracy: 0.4927 - val_loss: 1.2039 - val_accuracy: 0.5000\n",
      "Epoch 7/20\n",
      "10/10 [==============================] - 0s 35ms/step - loss: 1.0730 - accuracy: 0.5285 - val_loss: 1.1821 - val_accuracy: 0.5000\n",
      "Epoch 8/20\n",
      "10/10 [==============================] - 0s 50ms/step - loss: 1.0057 - accuracy: 0.5677 - val_loss: 1.1521 - val_accuracy: 0.5000\n",
      "Epoch 9/20\n",
      "10/10 [==============================] - 0s 35ms/step - loss: 0.9853 - accuracy: 0.5922 - val_loss: 1.1526 - val_accuracy: 0.5065\n",
      "Epoch 10/20\n",
      "10/10 [==============================] - 0s 35ms/step - loss: 0.9637 - accuracy: 0.6232 - val_loss: 1.1570 - val_accuracy: 0.4870\n",
      "Epoch 11/20\n",
      "10/10 [==============================] - 0s 33ms/step - loss: 0.9527 - accuracy: 0.5824 - val_loss: 1.1624 - val_accuracy: 0.4870\n",
      "Epoch 12/20\n",
      "10/10 [==============================] - 1s 56ms/step - loss: 0.9357 - accuracy: 0.6199 - val_loss: 1.1406 - val_accuracy: 0.4870\n",
      "Epoch 13/20\n",
      "10/10 [==============================] - 1s 84ms/step - loss: 0.8885 - accuracy: 0.6411 - val_loss: 1.1205 - val_accuracy: 0.5130\n",
      "Epoch 14/20\n",
      "10/10 [==============================] - 0s 40ms/step - loss: 0.8509 - accuracy: 0.6819 - val_loss: 1.1454 - val_accuracy: 0.5325\n",
      "Epoch 15/20\n",
      "10/10 [==============================] - 0s 32ms/step - loss: 0.8592 - accuracy: 0.6493 - val_loss: 1.1510 - val_accuracy: 0.4740\n",
      "Epoch 16/20\n",
      "10/10 [==============================] - 0s 36ms/step - loss: 0.8341 - accuracy: 0.6754 - val_loss: 1.1225 - val_accuracy: 0.5455\n",
      "Epoch 17/20\n",
      "10/10 [==============================] - 0s 37ms/step - loss: 0.8151 - accuracy: 0.6786 - val_loss: 1.2580 - val_accuracy: 0.4675\n",
      "Epoch 18/20\n",
      "10/10 [==============================] - 0s 35ms/step - loss: 0.8427 - accuracy: 0.6525 - val_loss: 1.2047 - val_accuracy: 0.4545\n",
      "Epoch 19/20\n",
      "10/10 [==============================] - 0s 34ms/step - loss: 0.7891 - accuracy: 0.6835 - val_loss: 1.1685 - val_accuracy: 0.5130\n",
      "Epoch 20/20\n",
      "10/10 [==============================] - 0s 35ms/step - loss: 0.7629 - accuracy: 0.7406 - val_loss: 1.1651 - val_accuracy: 0.4870\n"
     ]
    }
   ],
   "source": [
    "model_7x7 = Sequential([\n",
    "    Conv2D(8, (7, 7), activation='relu', input_shape=(28, 28, 3)),\n",
    "    MaxPooling2D((2, 2)),\n",
    "    Flatten(),\n",
    "    Dense(16, activation='relu'),\n",
    "    Dense(num_classes, activation='softmax')\n",
    "])\n",
    "\n",
    "model_7x7.compile(optimizer='adam', loss='categorical_crossentropy', metrics=['accuracy'])\n",
    "history_7x7 = model_7x7.fit(X_train, y_train, batch_size=batch_size, epochs=20, validation_data=(X_val, y_val))"
   ]
  },
  {
   "cell_type": "markdown",
   "metadata": {},
   "source": [
    "Plot the learning curves (i.e., x-axis: number of epochs; y-axis: training and validation accuracy -\n",
    "2 curves) for the classification models using the above 2 different parameter values (1 points)\n"
   ]
  },
  {
   "cell_type": "code",
   "execution_count": 196,
   "metadata": {},
   "outputs": [
    {
     "data": {
      "image/png": "[encoded data removed]",
      "text/plain": [
       "<Figure size 800x600 with 1 Axes>"
      ]
     },
     "metadata": {},
     "output_type": "display_data"
    }
   ],
   "source": [
    "\n",
    "plt.figure(figsize=(8, 6))\n",
    "plt.plot(history_5x5.history['accuracy'], label='Training Accuracy (5x5)')\n",
    "plt.plot(history_5x5.history['val_accuracy'], label='Validation Accuracy (5x5)')\n",
    "plt.plot(history_7x7.history['accuracy'], label='Training Accuracy (7x7)')\n",
    "plt.plot(history_7x7.history['val_accuracy'], label='Validation Accuracy (7x7)')\n",
    "plt.xlabel('Epochs')\n",
    "plt.ylabel('Accuracy')\n",
    "plt.legend()\n",
    "plt.show()"
   ]
  },
  {
   "cell_type": "markdown",
   "metadata": {},
   "source": [
    "Describe and discuss what you observe by comparing the performance of the first model and the\n",
    "other two models you constructed in (a), (b) or (c) (depending on which one you did). Are there\n",
    "model overfit or underfit or just right? (1 point)\n"
   ]
  },
  {
   "cell_type": "markdown",
   "metadata": {},
   "source": [
    "To analyze and compare the performance of the models, I'll describe the observations based on the learning curves plotted for each model:\n",
    "\n",
    "1. Initial Model:\n",
    "   - The learning curves for the initial model show that both the training and validation accuracy steadily increase and eventually plateau.\n",
    "   - The validation accuracy is slightly lower than the training accuracy, which is expected, as the validation set serves as an unbiased evaluation of the model's performance.\n",
    "   - The gap between the training and validation accuracy is not too large, indicating that the model is neither overfitting nor underfitting severely.\n",
    "\n",
    "2. 5x5 Filter Model:\n",
    "   - The learning curves for the model with 5x5 filters exhibit a similar behavior to the initial model, with both training and validation accuracy increasing and eventually plateauing.\n",
    "   - However, the final validation accuracy achieved by this model is slightly lower than the initial model, suggesting that using larger 5x5 filters may not have captured the relevant features as effectively.\n",
    "\n",
    "3. 7x7 Filter Model:\n",
    "   - The learning curves for the model with 7x7 filters show a different behavior compared to the other two models.\n",
    "   - While the training accuracy continues to increase, the validation accuracy plateaus early and starts to diverge from the training accuracy, indicating potential overfitting.\n",
    "   - The large gap between the training and validation accuracy suggests that the model with 7x7 filters may be overfitting to the training data and not generalizing well to the validation data.\n",
    "\n",
    "Based on these observations, we can conclude the following:\n",
    "\n",
    "- The initial model with 3x3 filters appears to be the best performing model, achieving a good balance between training and validation accuracy, without significant overfitting or underfitting.\n",
    "\n",
    "- The model with 5x5 filters performs slightly worse than the initial model, but it does not exhibit severe overfitting or underfitting.\n",
    "\n",
    "- The model with 7x7 filters shows signs of overfitting, as evident from the large gap between the training and validation accuracy curves. This model may be too complex for the given dataset, causing it to memorize the training data instead of learning the relevant features for generalization.\n",
    "\n",
    "To mitigate the overfitting observed in the 7x7 filter model, you could consider applying regularization techniques such as dropout, L1/L2 regularization, or early stopping. Additionally, you could try reducing the number of filters or the size of the hidden layer to decrease the model's complexity and prevent overfitting.\n",
    "\n",
    "Overall, based on the learning curves, the initial model with 3x3 filters appears to be the most well-suited for this classification task, providing a good balance between training performance and generalization capability."
   ]
  }
 ],
 "metadata": {
  "kernelspec": {
   "display_name": "Python 3",
   "language": "python",
   "name": "python3"
  },
  "language_info": {
   "codemirror_mode": {
    "name": "ipython",
    "version": 3
   },
   "file_extension": ".py",
   "mimetype": "text/x-python",
   "name": "python",
   "nbconvert_exporter": "python",
   "pygments_lexer": "ipython3",
   "version": "3.11.2"
  }
 },
 "nbformat": 4,
 "nbformat_minor": 2
}
